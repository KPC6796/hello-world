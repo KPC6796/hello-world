{
  "nbformat": 4,
  "nbformat_minor": 0,
  "metadata": {
    "colab": {
      "name": "Untitled4.ipynb",
      "provenance": [],
      "authorship_tag": "ABX9TyNbFJjMdznZGNheK5aKfuQC",
      "include_colab_link": true
    },
    "kernelspec": {
      "name": "python3",
      "display_name": "Python 3"
    }
  },
  "cells": [
    {
      "cell_type": "markdown",
      "metadata": {
        "id": "view-in-github",
        "colab_type": "text"
      },
      "source": [
        "<a href=\"https://colab.research.google.com/github/KPC6796/hello-world/blob/master/Untitled4.ipynb\" target=\"_parent\"><img src=\"https://colab.research.google.com/assets/colab-badge.svg\" alt=\"Open In Colab\"/></a>"
      ]
    },
    {
      "cell_type": "code",
      "metadata": {
        "id": "YpIZdKC5JgKI",
        "colab_type": "code",
        "colab": {}
      },
      "source": [
        "from urllib import request\n",
        "from bs4 import BeautifulSoup as bs\n",
        "import re\n",
        "import nltk\n",
        "import heapq\n",
        "nltk.download('punkt')\n",
        "nltk.download('stopwords')"
      ],
      "execution_count": 0,
      "outputs": []
    },
    {
      "cell_type": "code",
      "metadata": {
        "id": "E-ARrxCQJz3Q",
        "colab_type": "code",
        "colab": {}
      },
      "source": [
        "url = \"https://en.wikipedia.org/wiki/Machine_learning\"\n",
        "allParagraphContent = \"\"\n",
        "htmlDoc = request.urlopen(url)\n",
        "soupObject = bs(htmlDoc,'html.parser')\n",
        "paragraphContents = soupObject.findAll('p')\n",
        "print(paragraphContents)"
      ],
      "execution_count": 0,
      "outputs": []
    },
    {
      "cell_type": "code",
      "metadata": {
        "id": "Zzuy2ZaYWNr4",
        "colab_type": "code",
        "colab": {}
      },
      "source": [
        "for paragraphContent in paragraphContents:\n",
        "  allParagraphContent += paragraphContent.text\n",
        "  #print(allParagraphContent)"
      ],
      "execution_count": 0,
      "outputs": []
    },
    {
      "cell_type": "code",
      "metadata": {
        "id": "kH3GbyWhWasB",
        "colab_type": "code",
        "colab": {}
      },
      "source": [
        "allParagraphContent_cleanerData = re.sub(r'\\[[0-9]*\\]',' ',allParagraphContent)\n",
        "allParagraphContent_cleanedData = re.sub(r'\\s+',' ',allParagraphContent_cleanerData)\n",
        "#print(allParagraphContent_cleanedData)"
      ],
      "execution_count": 0,
      "outputs": []
    },
    {
      "cell_type": "code",
      "metadata": {
        "id": "EDkzshDRVsI-",
        "colab_type": "code",
        "colab": {}
      },
      "source": [
        "sentences_tokens = nltk.sent_tokenize(allParagraphContent_cleanedData)\n",
        "words_tokens = nltk.word_tokenize(allParagraphContent_cleanedData)"
      ],
      "execution_count": 0,
      "outputs": []
    },
    {
      "cell_type": "code",
      "metadata": {
        "id": "Log570kbXA9X",
        "colab_type": "code",
        "colab": {}
      },
      "source": [
        "stopwords = nltk.corpus.stopwords.words('english')\n",
        "word_frequencies = {}\n",
        "\n",
        "for word in words_tokens:\n",
        "  if word not in stopwords:\n",
        "    if word not in word_frequencies.keys():\n",
        "      word_frequencies[word] = 1\n",
        "    else:\n",
        "      word_frequencies[word] += 1\n",
        "#print(word_frequencies)"
      ],
      "execution_count": 0,
      "outputs": []
    },
    {
      "cell_type": "code",
      "metadata": {
        "id": "K0jLKACrXzGu",
        "colab_type": "code",
        "colab": {}
      },
      "source": [
        "maximum_frequency_word = max(word_frequencies.values())"
      ],
      "execution_count": 0,
      "outputs": []
    },
    {
      "cell_type": "code",
      "metadata": {
        "id": "o3UiZbdrX1ir",
        "colab_type": "code",
        "colab": {}
      },
      "source": [
        "for word in word_frequencies.keys():\n",
        "  word_frequencies[word] = (word_frequencies[word]/maximum_frequency_word) \n",
        "#print(word_frequencies)\n",
        "\n",
        "sentences_scores = {}\n",
        "\n",
        "for sentence in sentences_tokens:\n",
        "  for word in nltk.word_tokenize(sentence.lower()):\n",
        "    if word in word_frequencies.keys():\n",
        "      if (len(sentence.split(' '))) < 30:\n",
        "        if sentence not in sentences_scores.keys():\n",
        "          sentences_scores[sentence] = word_frequencies[word]\n",
        "        else:\n",
        "          sentences_scores[sentence] += word_frequencies[word]"
      ],
      "execution_count": 0,
      "outputs": []
    },
    {
      "cell_type": "code",
      "metadata": {
        "id": "qRapfXAuYBns",
        "colab_type": "code",
        "colab": {
          "base_uri": "https://localhost:8080/",
          "height": 55
        },
        "outputId": "3408bdbd-218c-4c2a-cfd2-2c66c8f449eb"
      },
      "source": [
        "print(sentences_scores)\n",
        "\n",
        "sumary_MachineLearning = heapq.nlargest(10, sentences_scores, key = sentences_scores.get)\n",
        "\n",
        "#print(sumary_MachineLearning)"
      ],
      "execution_count": 23,
      "outputs": [
        {
          "output_type": "stream",
          "text": [
            "{'It is seen as a subset of artificial intelligence.': 2.6261127596439167, 'Machine learning is closely related to computational statistics, which focuses on making predictions using computers.': 7.860534124629079, 'The study of mathematical optimization delivers methods, theory and application domains to the field of machine learning.': 8.020771513353116, 'Data mining is a field of study within machine learning, and focuses on exploratory data analysis through unsupervised learning.': 10.80712166172107, 'In its application across business problems, machine learning is also referred to as predictive analytics.': 7.771513353115729, 'The name machine learning was coined in 1959 by Arthur Samuel.': 4.44213649851632, 'This follows Alan Turing\\'s proposal in his paper \"Computing Machinery and Intelligence\", in which the question \"Can machines think?\"': 4.13946587537092, 'is replaced with the question \"Can machines do what we (as thinking entities) can do?\".': 3.9080118694362023, \"In Turing's proposal the various characteristics that could be possessed by a thinking machine and the various implications in constructing one are exposed.\": 3.38278931750742, 'Machine learning tasks are classified into several broad categories.': 4.55786350148368, 'In supervised learning, the algorithm builds a mathematical model from a set of data that contains both the inputs and the desired outputs.': 8.8486646884273, 'In special cases, the input may be only partially available, or restricted to special feedback.': 8.768545994065281, \"[clarification needed] Semi-supervised learning algorithms develop mathematical models from incomplete training data, where a portion of the sample input doesn't have labels.\": 9.000000000000004, 'Classification algorithms and regression algorithms are types of supervised learning.': 5.074183976261128, 'Classification algorithms are used when the outputs are restricted to a limited set of values.': 3.712166172106825, 'For an algorithm that identifies spam emails, the output would be the prediction of either \"spam\" or \"not spam\", represented by the Boolean values true and false.': 9.970326409495547, 'Regression algorithms are named for their continuous outputs, meaning they may have any value within a range.': 6.293768545994066, 'Examples of a continuous value are the temperature, length, or price of an object.': 8.64391691394659, 'In unsupervised learning, the algorithm builds a mathematical model from a set of data that contains only inputs and no desired output labels.': 8.946587537091988, 'Unsupervised learning algorithms are used to find structure in the data, like grouping or clustering of data points.': 9.222551928783385, 'Unsupervised learning can discover patterns in the data, and can group the inputs into categories, as in feature learning.': 12.320474777448073, 'Dimensionality reduction is the process of reducing the number of \"features\", or inputs, in a set of data.': 10.192878338278932, 'When used interactively, these can be presented to a human user for labeling.': 5.741839762611278, 'Machine learning algorithms can be used to find the unobservable probability density function in density estimation problems.': 5.456973293768547, 'Meta learning algorithms learn their own inductive bias based on previous experience.': 4.5222551928783385, 'These robots use guidance mechanisms such as active learning, maturation, motor synergies, and imitation.': 12.934718100890205, '[clarification needed] Arthur Samuel, an American pioneer in the field of computer gaming and artificial intelligence, coined the term \"Machine Learning\" in 1959 while at IBM.': 11.41246290801187, \"A representative book of the machine learning research during the 1960s was the Nilsson's book on Learning Machines, dealing mostly with machine learning for pattern classification.\": 11.296735905044512, 'The interest of machine learning related to pattern recognition continued during the 1970s, as described in the book of Duda and Hart in 1973.': 7.629080118694363, 'As a scientific endeavor, machine learning grew out of the quest for artificial intelligence.': 7.6379821958457, 'Already in the early days of AI as an academic discipline, some researchers were interested in having machines learn from data.': 6.338278931750745, 'Probabilistic reasoning was also employed, especially in automated medical diagnosis.': 5.6884272997032665, ':488 However, an increasing emphasis on the logical, knowledge-based approach caused a rift between AI and machine learning.': 10.557863501483679, 'Probabilistic systems were plagued by theoretical and practical problems of data acquisition and representation.': 3.5163204747774484, ':488 By 1980, expert systems had come to dominate AI, and statistics was out of favor.': 8.679525222551932, ':708–710; 755 Neural networks research had been abandoned by AI and computer science around the same time.': 2.866468842729971, 'This line, too, was continued outside the AI/CS field, as \"connectionism\", by researchers from other disciplines including Hopfield, Rumelhart and Hinton.': 18.115727002967358, 'Their main success came in the mid-1980s with the reinvention of backpropagation.': 2.43026706231454, ':25 Machine learning, reorganized as a separate field, started to flourish in the 1990s.': 10.611275964391691, 'The field changed its goal from achieving artificial intelligence to tackling solvable problems of a practical nature.': 2.9554896142433242, 'It shifted focus away from the symbolic approaches it had inherited from AI, and toward methods and models borrowed from statistics and probability theory.': 5.9821958456973325, 'It also benefited from the increasing availability of digitized information, and the ability to distribute it via the Internet.': 5.688427299703266, 'Machine learning also has intimate ties to optimization: many learning problems are formulated as minimization of some loss function on a training set of examples.': 7.246290801186946, 'According to Michael I. Jordan, the ideas of machine learning, from methodological principles to theoretical tools, have had a long pre-history in statistics.': 13.593471810089019, 'He also suggested the term data science as a placeholder to call the overall field.': 3.4985163204747782, 'Leo Breiman distinguished two statistical modeling paradigms: data model and algorithmic model, wherein \"algorithmic model\" means more or less the machine learning algorithms like Random forest.': 10.397626112759642, 'Some statisticians have adopted methods from machine learning, leading to a combined field that they call statistical learning.': 9.231454005934719, 'A core objective of a learner is to generalize from its experience.': 2.4747774480712166, 'Generalization in this context is the ability of a learning machine to perform accurately on new, unseen examples/tasks after having experienced a learning data set.': 10.13946587537092, 'The computational analysis of machine learning algorithms and their performance is a branch of theoretical computer science known as computational learning theory.': 6.836795252225519, 'Because training sets are finite and the future is uncertain, learning theory usually does not yield guarantees of the performance of algorithms.': 7.896142433234426, 'Instead, probabilistic bounds on the performance are quite common.': 5.572700296735906, 'The bias–variance decomposition is one way to quantify generalization error.': 2.6172106824925816, 'For the best performance in the context of generalization, the complexity of the hypothesis should match the complexity of the function underlying the data.': 6.507418397626115, 'If the hypothesis is less complex than the function, then the model has under fitted the data.': 6.560830860534127, 'If the complexity of the model is increased in response, then the training error decreases.': 6.2047477744807145, 'But if the hypothesis is too complex, then the model is subject to overfitting and generalization will be poorer.': 5.804154302670625, 'In addition to performance bounds, learning theorists study the time complexity and feasibility of learning.': 8.510385756676559, 'In computational learning theory, a computation is considered feasible if it can be done in polynomial time.': 7.050445103857569, 'There are two kinds of time complexity results.': 2.6261127596439167, 'Positive results show that a certain class of functions can be learned in polynomial time.': 2.7774480712166167, 'Negative results show that certain classes cannot be learned in polynomial time.': 2.6973293768545994, 'Supervised learning algorithms build a mathematical model of a set of data that contains both the inputs and the desired outputs.': 6.115727002967361, 'The data is known as training data, and consists of a set of training examples.': 8.18991097922849, 'Each training example has one or more inputs and the desired output, also known as a supervisory signal.': 6.658753709198813, 'In the mathematical model, each training example is represented by an array or vector, sometimes called a feature vector, and the training data is represented by a matrix.': 13.967359050445106, 'Through iterative optimization of an objective function, supervised learning algorithms learn a function that can be used to predict the output associated with new inputs.': 8.34124629080119, 'An optimal function will allow the algorithm to correctly determine the output for inputs that were not a part of the training data.': 4.094955489614244, 'An algorithm that improves the accuracy of its outputs or predictions over time is said to have learned to perform that task.': 3.142433234421365, 'Supervised learning algorithms include classification and regression.': 4.673590504451039, 'It has applications in ranking, recommendation systems, visual identity tracking, face verification, and speaker verification.': 14.679525222551929, 'In the case of semi-supervised learning algorithms, some of the training examples are missing training labels, but they can nevertheless be used to improve the quality of a model.': 11.919881305637984, 'In weakly supervised learning, the training labels are noisy, limited, or imprecise; however, these labels are often cheaper to obtain, resulting in larger effective training sets.': 20.21661721068249, 'Unsupervised learning algorithms take a set of data that contains only inputs, and find structure in the data, like grouping or clustering of data points.': 13.219584569732943, 'The algorithms, therefore, learn from test data that has not been labeled, classified or categorized.': 12.792284866468844, 'A central application of unsupervised learning is in the field of density estimation in statistics, though unsupervised learning encompasses other domains involving summarizing and explaining data features.': 9.623145400593472, 'Other methods are based on estimated density and graph connectivity.': 2.6706231454005938, 'Semi-supervised learning Semi-supervised learning falls between unsupervised learning (without any labeled training data) and supervised learning (with completely labeled training data).': 12.623145400593478, 'Many machine-learning researchers have found that unlabeled data, when used in conjunction with a small amount of labeled data, can produce a considerable improvement in learning accuracy.': 11.857566765578635, 'Reinforcement learning is an area of machine learning concerned with how software agents ought to take actions in an environment so as to maximize some notion of cumulative reward.': 6.089020771513357, 'In machine learning, the environment is typically represented as a Markov Decision Process (MDP).': 8.697329376854597, 'Many reinforcement learning algorithms use dynamic programming techniques.': 4.611275964391692, 'Reinforcement learning algorithms do not assume knowledge of an exact mathematical model of the MDP, and are used when exact models are infeasible.': 8.234421364985165, 'Reinforcement learning algorithms are used in autonomous vehicles or in learning to play a game against a human opponent.': 6.089020771513355, 'Self-learning as machine learning paradigm was introduced in 1982 along with a neural network capable of self-learning named Crossbar Adaptive Array (CAA).': 5.643916913946591, 'It is a learning with no external rewards and no external teacher advices.': 3.83679525222552, 'The CAA self-learning algorithm computes, in a crossbar fashion, both decisions about actions and emotions (feelings) about consequence situations.': 9.703264094955495, 'The system is driven by the interaction between cognition and emotion.': 2.5014836795252227, 'There is neither a separate reinforcement input nor an advice input from the environment.': 2.857566765578635, 'The backpropagated value (secondary reinforcement) is the emotion toward the consequence situation.': 3.516320474777449, 'After receiving the genome (species) vector from the genetic environment, the CAA learns a goal seeking behavior, in an environment that contains both desirable and undesirable situations.': 9.845697329376856, 'Several learning algorithms aim at discovering better representations of the inputs provided during training.': 4.922848664688428, 'Classic examples include principal components analysis and cluster analysis.': 2.8308605341246293, 'This technique allows reconstruction of the inputs coming from the unknown data-generating distribution, while not being necessarily faithful to configurations that are implausible under that distribution.': 5.715133531157273, 'This replaces manual feature engineering, and allows a machine to both learn the features and use them to perform a specific task.': 6.587537091988132, 'Feature learning can be either supervised or unsupervised.': 4.103857566765578, 'In supervised feature learning, features are learned using labeled input data.': 8.189910979228488, 'Examples include artificial neural networks, multilayer perceptrons, and supervised dictionary learning.': 10.513353115727003, 'In unsupervised feature learning, features are learned with unlabeled input data.': 8.038575667655786, 'Examples include dictionary learning, independent component analysis, autoencoders, matrix factorization and various forms of clustering.': 13.335311572700295, 'Manifold learning algorithms attempt to do so under the constraint that the learned representation is low-dimensional.': 4.442136498516321, 'Sparse coding algorithms attempt to do so under the constraint that the learned representation is sparse, meaning that the mathematical model has many zeros.': 6.614243323442138, 'Multilinear subspace learning algorithms aim to learn low-dimensional representations directly from tensor representations for multidimensional data, without reshaping them into higher-dimensional vectors.': 8.278931750741844, 'Deep learning algorithms discover multiple levels of representation, or a hierarchy of features, with higher-level, more abstract features defined in terms of (or generating) lower-level features.': 14.732937685459941, 'It has been argued that an intelligent machine is one that learns a representation that disentangles the underlying factors of variation that explain the observed data.': 4.032640949554897, 'Feature learning is motivated by the fact that machine learning tasks such as classification often require input that is mathematically and computationally convenient to process.': 6.454005934718102, 'However, real-world data such as images, video, and sensory data has not yielded to attempts to algorithmically define specific features.': 13.068249258160238, 'An alternative is to discover such features or representations through examination, without relying on explicit algorithms.': 6.124629080118696, 'Sparse dictionary learning is a feature learning method where a training example is represented as a linear combination of basis functions, and is assumed to be a sparse matrix.': 9.231454005934719, 'The method is strongly NP-hard and difficult to solve approximately.': 2.5281899109792283, 'A popular heuristic method for sparse dictionary learning is the K-SVD algorithm.': 4.175074183976262, 'Sparse dictionary learning has been applied in several contexts.': 3.943620178041544, 'In classification, the problem is to determine the class to which a previously unseen training example belongs.': 6.275964391691396, 'For a dictionary where each class has already been built, a new training example is associated with the class that is best sparsely represented by the corresponding dictionary.': 6.534124629080121, 'Sparse dictionary learning has also been applied in image de-noising.': 4.12166172106825, 'The key idea is that a clean image patch can be sparsely represented by an image dictionary, but the noise cannot.': 5.732937685459943, 'Typically, the anomalous items represent an issue such as bank fraud, a structural defect, medical problems or errors in a text.': 11.741839762611274, 'Anomalies are referred to as outliers, novelties, noise, deviations and exceptions.': 11.465875370919884, 'In particular, in the context of abuse and network intrusion detection, the interesting objects are often not rare objects, but unexpected bursts in activity.': 11.83976261127596, 'Instead, a cluster analysis algorithm may be able to detect the micro-clusters formed by these patterns.': 5.9198813056379835, 'Three broad categories of anomaly detection techniques exist.': 2.6617210682492582, 'Association rule learning is a rule-based machine learning method for discovering relationships between variables in large databases.': 6.106824925816023, 'It is intended to identify strong rules discovered in databases using some measure of \"interestingness\".': 3.13353115727003, 'Rule-based machine learning is a general term for any machine learning method that identifies, learns, or evolves \"rules\" to store, manipulate or apply knowledge.': 16.28189910979228, 'The defining characteristic of a rule-based machine learning algorithm is the identification and utilization of a set of relational rules that collectively represent the knowledge captured by the system.': 5.305637982195849, 'This is in contrast to other machine learning algorithms that commonly identify a singular model that can be universally applied to any instance in order to make a prediction.': 5.421364985163208, 'Rule-based machine learning approaches include learning classifier systems, association rule learning, and artificial immune systems.': 13.878338278931748, 'Such information can be used as the basis for decisions about marketing activities such as promotional pricing or product placements.': 2.8041543026706237, 'In addition to market basket analysis, association rules are employed today in application areas including Web usage mining, intrusion detection, continuous production, and bioinformatics.': 15.044510385756677, 'In contrast with sequence mining, association rule learning typically does not consider the order of items either within a transaction or across transactions.': 7.228486646884277, 'They seek to identify a set of context-dependent rules that collectively store and apply knowledge in a piecewise manner in order to make predictions.': 3.1424332344213664, 'Inductive logic programming (ILP) is an approach to rule-learning using logic programming as a uniform representation for input examples, background knowledge, and hypotheses.': 10.29080118694362, 'Inductive programming is a related field that considers any kind of programming languages for representing hypotheses (and not only logic programming), such as functional programs.': 6.961424332344215, 'Inductive logic programming is particularly useful in bioinformatics and natural language processing.': 2.6617210682492582, 'Gordon Plotkin and Ehud Shapiro laid the initial theoretical foundation for inductive machine learning in a logical setting.': 4.54005934718101, 'Shapiro built their first implementation (Model Inference System) in 1981: a Prolog program that inductively inferred logic programs from positive and negative examples.': 4.246290801186945, 'The term inductive here refers to philosophical induction, suggesting a theory to explain observed facts, rather than mathematical induction, proving a property for all members of a well-ordered set.': 12.106824925816028, 'Performing machine learning involves creating a model, which is trained on some training data and then can process additional data to make predictions.': 9.890207715133537, 'Various types of models have been used and researched for machine learning systems.': 5.002967359050446, 'Artificial neural networks (ANNs), or connectionist systems, are computing systems vaguely inspired by the biological neural networks that constitute animal brains.': 10.19287833827893, 'Such systems \"learn\" to perform tasks by considering examples, generally without being programmed with any task-specific rules.': 6.543026706231456, 'An ANN is a model based on a collection of connected units or nodes called \"artificial neurons\", which loosely model the neurons in a biological brain.': 7.0148367952522275, 'Each connection, like the synapses in a biological brain, can transmit information, a \"signal\", from one artificial neuron to another.': 15.418397626112752, 'An artificial neuron that receives a signal can process it and then signal additional artificial neurons connected to it.': 3.0356083086053416, 'The connections between artificial neurons are called \"edges\".': 3.1513353115727005, 'Artificial neurons and edges typically have a weight that adjusts as learning proceeds.': 4.094955489614244, 'The weight increases or decreases the strength of the signal at a connection.': 2.537091988130564, 'Artificial neurons may have a threshold such that the signal is only sent if the aggregate signal crosses that threshold.': 2.902077151335312, 'Typically, artificial neurons are aggregated into layers.': 5.6973293768546, 'Different layers may perform different kinds of transformations on their inputs.': 2.857566765578635, 'Signals travel from the first layer (the input layer) to the last layer (the output layer), possibly after traversing the layers multiple times.': 7.8427299703264115, 'The original goal of the ANN approach was to solve problems in the same way that a human brain would.': 2.857566765578635, 'However, over time, attention moved to performing specific tasks, leading to deviations from biology.': 11.697329376854599, 'Artificial neural networks have been used on a variety of tasks, including computer vision, speech recognition, machine translation, social network filtering, playing board and video games and medical diagnosis.': 19.13946587537092, 'Deep learning consists of multiple hidden layers in an artificial neural network.': 4.175074183976262, 'This approach tries to model the way the human brain processes light and sound into vision and hearing.': 2.9643916913946593, 'Some successful applications of deep learning are computer vision and speech recognition.': 4.023738872403561, 'It is one of the predictive modeling approaches used in statistics, data mining and machine learning.': 8.777448071216616, 'Decision trees where the target variable can take continuous values (typically real numbers) are called regression trees.': 3.8902077151335326, 'In decision analysis, a decision tree can be used to visually and explicitly represent decisions and decision making.': 6.1246290801186944, 'In data mining, a decision tree describes data, but the resulting classification tree can be an input for decision making.': 10.495548961424333, 'Support vector machines (SVMs), also known as support vector networks, are a set of related supervised learning methods used for classification and regression.': 12.391691394658753, 'An SVM training algorithm is a non-probabilistic, binary, linear classifier, although methods such as Platt scaling exist to use SVM in a probabilistic classification setting.': 12.569732937685462, 'In addition to performing linear classification, SVMs can efficiently perform a non-linear classification using what is called the kernel trick, implicitly mapping their inputs into high-dimensional feature spaces.': 9.409495548961425, 'Regression analysis encompasses a large variety of statistical methods to estimate the relationship between input variables and their associated features.': 3.240356083086054, 'Its most common form is linear regression, where a single line is drawn to best fit the given data according to a mathematical criterion such as ordinary least squares.': 6.623145400593476, 'The latter is oftentimes extended by regularization (mathematics) methods to mitigate overfitting and high bias, as can be seen in ridge regression.': 6.76557863501484, 'When dealing with non-linear problems, go-to models include polynomial regression (e.g.': 6.373887240356084, 'For example, a Bayesian network could represent the probabilistic relationships between diseases and symptoms.': 5.759643916913948, 'Given symptoms, the network can be used to compute the probabilities of the presence of various diseases.': 5.884272997032643, 'Efficient algorithms exist that perform inference and learning.': 4.362017804154303, 'Bayesian networks that model sequences of variables, like speech signals or protein sequences, are called dynamic Bayesian networks.': 9.178041543026708, 'Generalizations of Bayesian networks that can represent and solve decision problems under uncertainty are called influence diagrams.': 2.8486646884273, 'In machine learning, genetic algorithms were used in the 1980s and 1990s.': 8.189910979228486, 'Conversely, machine learning techniques have been used to improve the performance of genetic and evolutionary algorithms.': 8.367952522255193, 'Usually, machine learning models require a lot of data in order for them to perform well.': 8.465875370919882, 'Usually, when training a machine learning model, one needs to collect a large, representative sample of data from a training set.': 15.81899109792285, 'Data from the training set can be as varied as a corpus of text, a collection of images, and data collected from individual users of a service.': 10.700296735905047, 'Overfitting is something to watch out for when training a machine learning model.': 5.154302670623146, 'This also increases efficiency by decentralizing the training process to many devices.': 3.133531157270031, \"For example, Gboard uses federated machine learning to train search query prediction models on users' mobile phones without having to send individual searches back to Google.\": 7.958456973293773, 'In 2010 The Wall Street Journal wrote about the firm Rebellion Research and their use of machine learning to predict the financial crisis.': 4.629080118694364, 'In 2019 Springer Nature published the first research book created using machine learning.': 4.673590504451039, 'Although machine learning has been transformative in some fields, machine-learning programs often fail to deliver expected results.': 7.664688427299704, 'In 2018, a self-driving car from Uber failed to detect a pedestrian, who was killed after a collision.': 8.483679525222556, 'Attempts to use machine learning in healthcare with the IBM Watson system failed to deliver even after years of time and billions of investment.': 4.735905044510388, 'Machine learning approaches in particular can suffer from different data biases.': 5.314540059347182, 'A machine learning system trained on current customers only may not be able to predict the needs of new customer groups that are not represented in the training data.': 6.08011869436202, 'When trained on man-made data, machine learning is likely to pick up the same constitutional and unconscious biases already present in society.': 8.350148367952526, 'Language models learned from data have been shown to contain human-like biases.': 3.480712166172107, 'Machine learning systems used for criminal risk assessment have been found to be biased against black people.': 4.949554896142436, 'Similar issues with recognizing non-white people have been found in many other systems.': 2.7596439169139466, 'In 2016, Microsoft tested a chatbot that learned from Twitter, and it quickly picked up racist and sexist language.': 8.57270029673591, 'Because of such challenges, the effective use of machine learning may take longer to be adopted in other domains.': 7.718100890207716, 'In addition to the holdout and cross-validation methods, bootstrap, which samples n instances with replacement from the dataset, can be used to assess model accuracy.': 12.356083086053411, 'In addition to overall accuracy, investigators frequently report sensitivity and specificity meaning True Positive Rate (TPR) and True Negative Rate (TNR) respectively.': 7.629080118694366, 'Similarly, investigators sometimes report the False Positive Rate (FPR) as well as the False Negative Rate (FNR).': 7.468842729970328, 'However, these rates are ratios that fail to reveal their numerators and denominators.': 5.483679525222555, \"The Total Operating Characteristic (TOC) is an effective method to express a model's diagnostic ability.\": 3.908011869436202, 'Machine learning poses a host of ethical questions.': 4.442136498516322, 'Systems which are trained on datasets collected with biases may exhibit these biases upon use (algorithmic bias), thus digitizing cultural prejudices.': 7.103857566765582, 'Responsible collection of data and documentation of algorithmic rules used by a system thus is a critical part of machine learning.': 5.6528189910979245, 'Because human languages contain biases, machines trained on language corpora will necessarily also learn these biases.': 6.071216617210685, 'Other forms of ethical challenges, not related to personal biases, are more seen in health care.': 8.71513353115727, \"There are concerns among health care professionals that these systems might not be designed in the public's interest but as income-generating machines.\": 2.821958456973294, 'This is especially true in the United States where there is a long-standing ethical dilemma of improving health care, but also increase profits.': 5.706231454005937, \"For example, the algorithms could be designed to provide patients with unnecessary tests or medication in which the algorithm's proprietary owners hold stakes in.\": 6.356083086053418, 'Software suites containing a variety of machine learning algorithms include the following:': 0.9109792284866469}\n"
          ],
          "name": "stdout"
        }
      ]
    }
  ]
}